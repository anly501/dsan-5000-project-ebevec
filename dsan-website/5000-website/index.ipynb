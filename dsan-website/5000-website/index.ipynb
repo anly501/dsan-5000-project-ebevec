{
  "cells": [
    {
      "cell_type": "raw",
      "id": "60c73575",
      "metadata": {},
      "source": [
        "---\n",
        "title: \"DSAN-5000\"\n",
        "---"
      ]
    }
  ],
  "metadata": {
    "kernelspec": {
      "display_name": "Python 3 (ipykernel)",
      "language": "python",
      "name": "python3"
    }
  },
  "nbformat": 4,
  "nbformat_minor": 5
}
