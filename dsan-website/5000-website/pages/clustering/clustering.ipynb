{
  "cells": [
    {
      "cell_type": "raw",
      "id": "e14b1940",
      "metadata": {},
      "source": [
        "---\n",
        "title: Clustering\n",
        "format:\n",
        "  html:\n",
        "    code-fold: true\n",
        "    embed-resources: true\n",
        "---"
      ]
    },
    {
      "cell_type": "markdown",
      "id": "0cfc6b4a",
      "metadata": {},
      "source": [
        "# Introduction \n",
        "\n",
        "The data being used in this analysis is a collection of country-wise economic, political, social, and human freedom measurements. 135 countries are included in this data from each of the seven continents. In this analysis, the intention is to elucidate underlying patterns in the data with regard to political regime. Each country is tagged with a particular political regime of these four descriptions: closed autocracy, electoral autocracy, electoral democracy, and liberal democracy. These governmental structures range from largely authoritarian to largely democratic. It is of interest to identify how factors that are essential to human freedom manifest in each of these political regimes. In the Western World, we assume that liberal democracy leads to maximal human freedom. This conception can be evaluated through clustering. The goal is to cluster the feature data in order to see if the indicators are highly variant between these regimes. Simply put, are the freedom indicators truly different between political regimes? The clustering analysis will aim to answer this query. \n",
        "\n",
        "# Theory\n",
        "\n",
        "Three clustering methods will be implemented in this analysis - K-Means Clustering, Density-Based Spatial Clustering of Applications with Noise (DBSCAN), and Hierarchical Clustering. Each method operated differently. \n",
        "\n",
        "K-means clustering is a method to identify groupings, or clusters, of similar observations. The algorithm calculates the euclidean distance between some point, and all other points in the dataset. The point is assigned to the same group as the 'nearest' point - the point with the smallest euclidean distance. This process is conducted for each point in the dataset. \n",
        "\n",
        "\"K\" in \"K-means\" is the hyperparameter that represents the number of clusters to discern amongst the observations. The selection of K is important to the usefulness of the results, and thus is important. K is often selected with a a priori test. Two that are implemented in this analysis is the elbow method. The elbow method involves trying many values of K and finding the sum of squared variance within each cluster. These statistics are then plotted, and hte plot takes on somewhat of an L shape, with potential K values along the x axis and the sum of squares on the y axis. This L shape will begin high and break into a more constant variance. The break point, or the 'elbow' is identified visually and that is a reasoable selection for k that minimizes intercluster variance optimally. \n",
        "\n",
        "ensity-Based Spatial Clustering of Applications with Noise (DBSCAN) is another clustering method that is used in this analysis. DBSCAN uses density to determine cluster groupings of observations in a data set. DBSCAN identifies neighbors, or near points, to each point and calculates an optimal density. The density refers to the number of points that have to be within range to create a neighborhood, or a cluster.\n",
        "\n",
        "K-means clustering reqiures the user setting a hyperparameter of K. DBSCAN does not require this setting, as it computes density mathematically within the algorithm. The silhouette score is used to evalaute the performance of the model. Silhouette score is a measure of how pure the cluster is that was identified by the algorithm. The score is on the range (-1 to1), where 0.5 is typically a good cluster, and values below indicate poor clustering. \n",
        "\n",
        "Hierarchical clustering is the third algorithm that is implemented in this analysis. Hierarchical clustering is an algorithm that builds a tree or bracket like data structure. This strucutre is build on observation similarity. This can be understool like an evolutionary tree in biology. This method creates many branches based on the distance between clusters. At any point a division, or a branch can be considered a cluster. In an evolutoinary tree, a cluster could be family, or genus for example.\n",
        "\n",
        "Hierarchical clustering has two types: agglomerative and divisive. Agglomerative clustering starts with each observation and merges them upward to construct the tree. Divisive begins with one large cluster and divides observations downwards from there. Agglmomerative clustering will be used in this analysis.\n",
        "\n",
        "# Methods\n",
        "\n",
        "### Data Import"
      ]
    },
    {
      "cell_type": "code",
      "execution_count": null,
      "id": "d4155c74",
      "metadata": {
        "vscode": {
          "languageId": "python"
        }
      },
      "outputs": [],
      "source": [
        "import pandas as pd\n",
        "import numpy as np\n",
        "from sklearn.cluster import KMeans, AgglomerativeClustering, DBSCAN\n",
        "from scipy.spatial.distance import cdist\n",
        "import matplotlib.pyplot as plt\n",
        "from sklearn.preprocessing import StandardScaler"
      ]
    },
    {
      "cell_type": "markdown",
      "id": "35502f29",
      "metadata": {},
      "source": [
        "### Preprocessing"
      ]
    },
    {
      "cell_type": "code",
      "execution_count": null,
      "id": "60267684",
      "metadata": {
        "vscode": {
          "languageId": "python"
        }
      },
      "outputs": [],
      "source": [
        "df = pd.read_csv('C:\\\\Users\\\\erinb\\\\OneDrive\\\\Documents\\\\Georgetown\\\\DSAN 5000\\\\dsan-5000-project-ebevec\\\\data\\\\01-modified-data\\\\data_clean2.csv')\n",
        "df = df.replace(\",\", \"\", regex = True)\n",
        "df.iloc[:,2:20] = df.iloc[:,2:20].apply(pd.to_numeric)"
      ]
    },
    {
      "cell_type": "code",
      "execution_count": null,
      "id": "7f660523",
      "metadata": {
        "vscode": {
          "languageId": "python"
        }
      },
      "outputs": [],
      "source": [
        "# Linear Interpolation\n",
        "full_df = df.dropna()\n",
        "\n",
        "# GDP\n",
        "delta = full_df['GDP_2020'] - full_df['GDP_2019']\n",
        "delta = delta.mean()\n",
        "\n",
        "df['GDP_2020'] = df['GDP_2020'].fillna(df['GDP_2019'] + delta)\n",
        "df['GDP_2019'] = df['GDP_2019'].fillna(df['GDP_2020'] - delta)\n",
        "df.head()\n",
        "\n",
        "# Population \n",
        "delta2 = full_df['pop_2020'] - full_df['pop_2019']\n",
        "delta2 = delta2.mean()\n",
        "\n",
        "df['pop_2020'] = df['pop_2020'].fillna(df['pop_2019'] + delta)\n",
        "df['pop_2019'] = df['pop_2019'].fillna(df['pop_2020'] - delta)\n",
        "df.head()\n",
        "\n",
        "# Unemployment - Too many NaN for interpolation. Dropping columns. Imputation unreasonable for country-wise comparion.\n",
        "df = df.drop(columns = ['unemployment_2019', 'unemployment_2020'])\n",
        "df = df.iloc[:, 1:]\n",
        "df.head()"
      ]
    },
    {
      "cell_type": "code",
      "execution_count": null,
      "id": "caeca60a",
      "metadata": {
        "vscode": {
          "languageId": "python"
        }
      },
      "outputs": [],
      "source": [
        "x = df.iloc[:, 1:18]\n",
        "x = StandardScaler().fit_transform(x)\n",
        "y = df.iloc[:, 20]"
      ]
    },
    {
      "cell_type": "markdown",
      "id": "63b961e0",
      "metadata": {},
      "source": [
        "### Function Definition"
      ]
    },
    {
      "cell_type": "code",
      "execution_count": null,
      "id": "d28c8e7f",
      "metadata": {
        "vscode": {
          "languageId": "python"
        }
      },
      "outputs": [],
      "source": [
        "def plot(X,color_vector):\n",
        "    fig, ax = plt.subplots()\n",
        "    ax.scatter(X[:,0], X[:,1],c=color_vector, cmap=\"viridis\") #, alpha=0.5) #, c=y\n",
        "    ax.set(xlabel='Feature-1 (x_1)', ylabel='Feature-2 (x_2)',\n",
        "    title='Cluster data')\n",
        "    ax.grid()\n",
        "    # fig.savefig(\"test.png\")\n",
        "    plt.show()\n",
        "\n",
        "from sklearn.cluster import DBSCAN, AgglomerativeClustering\n",
        "from sklearn.metrics import silhouette_score\n",
        "def maximize_silhouette(X,algo=\"birch\",nmax=20,i_plot=False):\n",
        "    # PARAM\n",
        "    i_print=False\n",
        "\n",
        "    #FORCE CONTIGUOUS\n",
        "    X=np.ascontiguousarray(X) \n",
        "\n",
        "    # LOOP OVER HYPER-PARAM\n",
        "    params=[]; sil_scores=[]\n",
        "    sil_max=-10\n",
        "    for param in range(2,nmax+1):\n",
        "        if(algo==\"birch\"):\n",
        "            model = sklearn.cluster.Birch(n_clusters=param).fit(X)\n",
        "            labels=model.predict(X)\n",
        "\n",
        "        if(algo==\"ag\"):\n",
        "            model = AgglomerativeClustering(n_clusters=param).fit(X)\n",
        "            labels=model.labels_\n",
        "\n",
        "        if(algo==\"dbscan\"):\n",
        "            param=0.5*(param-1)\n",
        "            model = DBSCAN(eps=param).fit(X)\n",
        "            labels=model.labels_\n",
        "\n",
        "        if(algo==\"kmeans\"):\n",
        "            model = KMeans(n_clusters=param).fit(X)\n",
        "            labels=model.predict(X)\n",
        "\n",
        "        try:\n",
        "            sil_scores.append(silhouette_score(X,labels))\n",
        "            params.append(param)\n",
        "        except:\n",
        "            continue \n",
        "\n",
        "        if(i_print): print(param,sil_scores[-1])\n",
        "        \n",
        "        if(sil_scores[-1]>sil_max):\n",
        "             opt_param=param\n",
        "             sil_max=sil_scores[-1]\n",
        "             opt_labels=labels\n",
        "\n",
        "    print(\"OPTIMAL PARAMETER =\",opt_param)\n",
        "\n",
        "    if(i_plot):\n",
        "        fig, ax = plt.subplots()\n",
        "        ax.plot(params, sil_scores, \"-o\")  \n",
        "        ax.set(xlabel='Hyper-parameter', ylabel='Silhouette')\n",
        "        plt.show()\n",
        "\n",
        "    return opt_labels"
      ]
    },
    {
      "cell_type": "markdown",
      "id": "093fb361",
      "metadata": {},
      "source": [
        "## K-means Clustering"
      ]
    },
    {
      "cell_type": "code",
      "execution_count": null,
      "id": "da09ed2d",
      "metadata": {
        "vscode": {
          "languageId": "python"
        }
      },
      "outputs": [],
      "source": [
        "# for k means clustering we will use the elbow method to find the optimal number of clusters. we will use the inertia_ attribute to find the sum of squared distances of samples to their closest cluster center. we will use the range of 1 to 10 clusters. plot the inertia_ values for each number of clusters. make sure to save it in a dataframe and plot it using matplotlib.\n",
        "inertias = []\n",
        "distortion = []\n",
        "K = range(1, 10)\n",
        "for k in K:\n",
        "    model = KMeans(n_clusters=k).fit(x)\n",
        "    model.fit(x)\n",
        "    inertias.append(model.inertia_)\n",
        "    \n",
        "    distortion.append(sum(np.min(cdist(x, model.cluster_centers_, 'euclidean'), axis=1)) / x.shape[0])\n",
        "\n",
        "plt.plot(K, inertias)\n",
        "plt.xlabel('Number of Clusters')\n",
        "plt.ylabel('Inertia')\n",
        "plt.title('Elbow Method')\n",
        "plt.grid()\n",
        "plt.show()\n",
        "\n",
        "# Distortion, Inertia\n",
        "plt.plot(K, distortion, color = 'green')\n",
        "plt.legend('Distortion')\n",
        "plt.grid()\n",
        "plt.show()\n",
        "\n",
        "plt.plot(K, inertias, color = 'orange')\n",
        "plt.legend('Inertia')\n",
        "plt.grid()\n",
        "plt.show()\n",
        "\n",
        "# Silhouette method\n",
        "maximize_silhouette(x,algo=\"kmeans\",nmax=15, i_plot=True)"
      ]
    },
    {
      "cell_type": "code",
      "execution_count": null,
      "id": "dddd7778",
      "metadata": {
        "vscode": {
          "languageId": "python"
        }
      },
      "outputs": [],
      "source": [
        "from sklearn.metrics import silhouette_score\n",
        "model2 = KMeans(n_clusters=4).fit(x)\n",
        "model2.fit(x)\n",
        "\n",
        "plot(x, color_vector=model2.labels_)\n",
        "\n",
        "silhouette_score(x, model2.labels_)"
      ]
    },
    {
      "cell_type": "markdown",
      "id": "c952b585",
      "metadata": {},
      "source": [
        "## DBSCAN"
      ]
    },
    {
      "cell_type": "code",
      "execution_count": null,
      "id": "9383f87c",
      "metadata": {
        "vscode": {
          "languageId": "python"
        }
      },
      "outputs": [],
      "source": [
        "from sklearn.cluster import DBSCAN\n",
        "\n",
        "clustering = DBSCAN(eps=3, min_samples=2).fit(x)\n",
        "print(clustering.labels_)\n",
        "print(clustering)\n",
        "\n",
        "opt_labels=maximize_silhouette(x,algo=\"dbscan\",nmax=15, i_plot=True)\n",
        "plot(x,opt_labels)\n",
        "\n",
        "print(silhouette_score(x, opt_labels))"
      ]
    },
    {
      "cell_type": "markdown",
      "id": "2ec55cff",
      "metadata": {},
      "source": [
        "## Hierarchical Clustering"
      ]
    },
    {
      "cell_type": "code",
      "execution_count": null,
      "id": "4689a90b",
      "metadata": {
        "vscode": {
          "languageId": "python"
        }
      },
      "outputs": [],
      "source": [
        "# Perform Agglomerative Clustering\n",
        "opt_labels=maximize_silhouette(x,algo=\"ag\",nmax=15, i_plot=True)\n",
        "labels=model.predict(x)\n",
        "plot(x,labels)\n",
        "print(silhouette_score(x, opt_labels))"
      ]
    },
    {
      "cell_type": "code",
      "execution_count": null,
      "id": "9eb9b287",
      "metadata": {
        "vscode": {
          "languageId": "python"
        }
      },
      "outputs": [],
      "source": [
        "# create linkage for agglomerative clustering, and the dendrogram for the linkage. Suggest the optimal number of clusters based on the dendrogram.\n",
        "from scipy.cluster import hierarchy\n",
        "link = hierarchy.linkage(x, 'single')\n",
        "hierarchy.dendrogram(link, above_threshold_color=\"green\", color_threshold=.7)"
      ]
    },
    {
      "cell_type": "markdown",
      "id": "170c8122",
      "metadata": {},
      "source": [
        "# Results\n",
        "\n",
        "The K-means clustering analysis revealed that the optimal cluster size is 4. The silhouette score of this analysis is 0.41, which is not optimal cluster separation. However, this is consistent with the four categories of political regime that are the true labels in this context, but it is unclear if the labeling is consistent. \n",
        "\n",
        "The DBSCAN analysis revelaed that two clusters are optimal. The analysis also had the highest respectvie silhouette score of 0.63, which is indicative of good cluster separation. \n",
        "\n",
        "The heirarchical clustering analysis indicated that 7 clusters are optimal. The silhouette score in this case was 0.38, the lowest performing of the clustering algorithms.\n",
        "\n",
        "These three analyses are inconsistent. This is likely due to the differnet mechanisms by which clustering occurs. K-means relies on an a priori hyperparameter selection, which may bias the reuslts. The DBSCAN had the best cluster separation, but due to the fact that the clusters are implicitly ill defined with outlying points, this is unliekly to be the most informative option. The heirarchical clustering had the worst performance and the highest number of clusters. These results are too granular to be the most useful. The implicitly ill defined clusters and the outlying points may have caused the inconsistency between these clustering algorithms. \n",
        "\n",
        "The clusters revealed that some countries are outliers in terms of features.\n",
        "\n",
        "# Conclusions\n",
        "\n",
        "The clustering analysis demonstrated that the clusters are relatively ill defined regardless of the method. The best performing alogirthm was DBSCAN, which identified two clusters. One contained most of the observations, or countries, while the other contained fewer outlying points. This may indicate consistency between the feature manifestations within countries. Or, it may be biased by the outlying countries. These points need further investigation to determine if the clusters are meaningfully defined without the outlying points. \n",
        "\n",
        "# References\n",
        "\n",
        " The base code for this analysis was sources from the Georgetown University DSAN 5000 course lab 4.1 demonstration. \n"
      ]
    }
  ],
  "metadata": {
    "kernelspec": {
      "display_name": "Python 3 (ipykernel)",
      "language": "python",
      "name": "python3"
    }
  },
  "nbformat": 4,
  "nbformat_minor": 5
}
