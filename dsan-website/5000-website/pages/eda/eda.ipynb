{
  "cells": [
    {
      "cell_type": "raw",
      "metadata": {},
      "source": [
        "---\n",
        "title: Data Exploration\n",
        "---"
      ]
    },
    {
      "cell_type": "markdown",
      "metadata": {},
      "source": [
        "## Quick look at the data "
      ]
    },
    {
      "cell_type": "code",
      "metadata": {},
      "source": [
        "# Import packages\n",
        "import seaborn as sns\n",
        "import matplotlib.pyplot as plt\n",
        "import pandas as pd\n",
        "\n",
        "# Apply the default theme\n",
        "sns.set_theme(style=\"whitegrid\", palette=\"pastel\")\n",
        "\n",
        "# Load dataset\n",
        "df = pd.read_csv('C:\\\\Users\\\\erinb\\\\OneDrive\\\\Documents\\\\Georgetown\\\\DSAN 5000\\\\dsan-5000-project-ebevec\\\\data\\\\01-modified-data\\\\data_clean2.csv')\n",
        "df = df.iloc[: , 1:]\n",
        "df.head()"
      ],
      "execution_count": null,
      "outputs": []
    },
    {
      "cell_type": "markdown",
      "metadata": {},
      "source": [
        "## Numeric Summary\n",
        "\n",
        "### Numeric"
      ]
    },
    {
      "cell_type": "code",
      "metadata": {},
      "source": [
        "df.describe()"
      ],
      "execution_count": null,
      "outputs": []
    },
    {
      "cell_type": "code",
      "metadata": {},
      "source": [
        "print(df['regime_2019'].value_counts())\n",
        "print(df['regime_2020'].value_counts())"
      ],
      "execution_count": null,
      "outputs": []
    },
    {
      "cell_type": "markdown",
      "metadata": {},
      "source": [
        "## Univariate Analysis"
      ]
    },
    {
      "cell_type": "code",
      "metadata": {},
      "source": [
        "sns.displot(df, x=\"hf_score_2020\", kind=\"kde\")"
      ],
      "execution_count": null,
      "outputs": []
    },
    {
      "cell_type": "code",
      "metadata": {},
      "source": [
        "sns.displot(df, x=\"ef_score_2020\", kind=\"kde\")"
      ],
      "execution_count": null,
      "outputs": []
    },
    {
      "cell_type": "code",
      "metadata": {},
      "source": [
        "sns.displot(df, x=\"Learning.Adjusted.Years.of.School\", kind=\"kde\")"
      ],
      "execution_count": null,
      "outputs": []
    },
    {
      "cell_type": "code",
      "metadata": {},
      "source": [
        "sns.displot(df, x=\"regime_2020\")"
      ],
      "execution_count": null,
      "outputs": []
    },
    {
      "cell_type": "markdown",
      "metadata": {},
      "source": [
        "## Bivariate Analysis"
      ]
    },
    {
      "cell_type": "code",
      "metadata": {},
      "source": [
        "plt.rcParams[\"figure.figsize\"] = [10.00, 5.50]\n",
        "plt.rcParams[\"figure.autolayout\"] = True\n",
        "f, axes = plt.subplots(1, 2)\n",
        "sns.set_theme(style = 'whitegrid')\n",
        "sns.scatterplot(data = df, x = 'GDP_2019', y = 'hf_score_2019', ax=axes[0])\n",
        "sns.scatterplot(data = df, x = 'GDP_2020', y = 'hf_score_2020', ax=axes[1])\n",
        "plt.show()"
      ],
      "execution_count": null,
      "outputs": []
    },
    {
      "cell_type": "code",
      "metadata": {},
      "source": [
        "plt.rcParams[\"figure.figsize\"] = [10.00, 5.50]\n",
        "plt.rcParams[\"figure.autolayout\"] = True\n",
        "f, axes = plt.subplots(1, 2)\n",
        "sns.set_theme(style = 'whitegrid')\n",
        "sns.scatterplot(data = df, x = 'unemployment_2019', y = 'hf_score_2019', ax=axes[0])\n",
        "sns.scatterplot(data = df, x = 'unemployment_2020', y = 'hf_score_2020', ax=axes[1])\n",
        "plt.show()"
      ],
      "execution_count": null,
      "outputs": []
    },
    {
      "cell_type": "code",
      "metadata": {},
      "source": [
        "sns.lmplot(data = df, x = 'Learning.Adjusted.Years.of.School', y = 'hf_score_2020')\n",
        "plt.show()"
      ],
      "execution_count": null,
      "outputs": []
    },
    {
      "cell_type": "code",
      "metadata": {},
      "source": [
        "sns.violinplot(data=df, x = 'regime_2019', y = 'hf_score_2019', palette=\"Set3\")"
      ],
      "execution_count": null,
      "outputs": []
    },
    {
      "cell_type": "code",
      "metadata": {},
      "source": [
        "sns.violinplot(data=df, x = 'regime_2020', y = 'hf_score_2020', palette=\"Set3\")"
      ],
      "execution_count": null,
      "outputs": []
    },
    {
      "cell_type": "markdown",
      "metadata": {},
      "source": [
        "### Pairplot - 2020"
      ]
    },
    {
      "cell_type": "code",
      "metadata": {},
      "source": [
        "cols = ['hf_score_2019', 'ef_score_2019', 'Learning.Adjusted.Years.of.School', 'pf_ss_2019', 'regime_2019']\n",
        "df_subset2 = df.loc[:,cols]\n",
        "sns.pairplot(df_subset2, hue=\"regime_2019\")"
      ],
      "execution_count": null,
      "outputs": []
    },
    {
      "cell_type": "markdown",
      "metadata": {},
      "source": [
        "### Pairplot: 2020"
      ]
    },
    {
      "cell_type": "code",
      "metadata": {},
      "source": [
        "cols = ['hf_score_2020', 'ef_score_2020', 'Learning.Adjusted.Years.of.School', 'pf_ss_2020', 'regime_2020']\n",
        "df_subset = df.loc[:,cols]\n",
        "sns.pairplot(df_subset, hue=\"regime_2020\")"
      ],
      "execution_count": null,
      "outputs": []
    },
    {
      "cell_type": "markdown",
      "metadata": {},
      "source": [
        "# Findings and Hypothesis Refinement\n",
        "\n",
        "This eda has demonstrated that there are relationships between the predictor variables and the response variable, human freedom index. This indicates that the features such as education level, economic freedom, and political regime are associated with human freedom. Notably, there is a strongly postiive correlation between a nations education level and their human freedom. That is, more educated countries are relatively freer. It is also notable that political regime has a stratified freedom level. My refined hypotheses will focus on economic freedom, education level, and political freedom as statistically significant indicators of human freedom. Some metrics, like GDP are colinear with economic freedom and thus they will not be focused on together in further analysis.\n"
      ]
    }
  ],
  "metadata": {
    "kernelspec": {
      "name": "python3",
      "language": "python",
      "display_name": "Python 3 (ipykernel)"
    }
  },
  "nbformat": 4,
  "nbformat_minor": 4
}