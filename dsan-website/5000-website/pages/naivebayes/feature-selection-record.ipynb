{
 "cells": [
  {
   "cell_type": "code",
   "execution_count": 2,
   "metadata": {},
   "outputs": [],
   "source": [
    "import pandas as pd\n",
    "import numpy as np\n",
    "import sklearn"
   ]
  },
  {
   "cell_type": "code",
   "execution_count": 3,
   "metadata": {},
   "outputs": [
    {
     "data": {
      "text/plain": [
       "Index(['Unnamed: 0', 'Country', 'GDP_2019', 'GDP_2020', 'pop_2019', 'pop_2020',\n",
       "       'unemployment_2019', 'unemployment_2020', 'hf_score_2019',\n",
       "       'hf_rank_2019', 'pf_religion_2019', 'pf_expression_2019',\n",
       "       'ef_score_2019', 'pf_ss_2019', 'hf_score_2020', 'hf_rank_2020',\n",
       "       'pf_religion_2020', 'pf_expression_2020', 'ef_score_2020', 'pf_ss_2020',\n",
       "       'Year', 'Learning.Adjusted.Years.of.School', 'regime_2019',\n",
       "       'regime_2020'],\n",
       "      dtype='object')"
      ]
     },
     "execution_count": 3,
     "metadata": {},
     "output_type": "execute_result"
    }
   ],
   "source": [
    "df = pd.read_csv(\"C:\\\\Users\\\\erinb\\\\OneDrive\\\\Documents\\\\Georgetown\\\\DSAN 5000\\\\dsan-5000-project-ebevec\\\\data\\\\01-modified-data\\\\data_clean2.csv\")\n",
    "df.head()\n",
    "df.columns"
   ]
  },
  {
   "cell_type": "code",
   "execution_count": 4,
   "metadata": {},
   "outputs": [
    {
     "data": {
      "text/html": [
       "<div>\n",
       "<style scoped>\n",
       "    .dataframe tbody tr th:only-of-type {\n",
       "        vertical-align: middle;\n",
       "    }\n",
       "\n",
       "    .dataframe tbody tr th {\n",
       "        vertical-align: top;\n",
       "    }\n",
       "\n",
       "    .dataframe thead th {\n",
       "        text-align: right;\n",
       "    }\n",
       "</style>\n",
       "<table border=\"1\" class=\"dataframe\">\n",
       "  <thead>\n",
       "    <tr style=\"text-align: right;\">\n",
       "      <th></th>\n",
       "      <th>GDP_2019</th>\n",
       "      <th>pop_2019</th>\n",
       "      <th>unemployment_2019</th>\n",
       "      <th>hf_score_2019</th>\n",
       "      <th>pf_religion_2019</th>\n",
       "      <th>ef_score_2019</th>\n",
       "      <th>hf_score_2020</th>\n",
       "      <th>pf_religion_2020</th>\n",
       "      <th>ef_score_2020</th>\n",
       "    </tr>\n",
       "  </thead>\n",
       "  <tbody>\n",
       "    <tr>\n",
       "      <th>6</th>\n",
       "      <td>397.170</td>\n",
       "      <td>8.859</td>\n",
       "      <td>4.817</td>\n",
       "      <td>8.68</td>\n",
       "      <td>8.733125</td>\n",
       "      <td>7.86</td>\n",
       "      <td>8.26</td>\n",
       "      <td>8.851875</td>\n",
       "      <td>7.56</td>\n",
       "    </tr>\n",
       "    <tr>\n",
       "      <th>7</th>\n",
       "      <td>81.896</td>\n",
       "      <td>9.982</td>\n",
       "      <td>4.848</td>\n",
       "      <td>6.02</td>\n",
       "      <td>4.699583</td>\n",
       "      <td>6.43</td>\n",
       "      <td>5.70</td>\n",
       "      <td>4.132083</td>\n",
       "      <td>6.21</td>\n",
       "    </tr>\n",
       "    <tr>\n",
       "      <th>8</th>\n",
       "      <td>14.534</td>\n",
       "      <td>1.484</td>\n",
       "      <td>4.700</td>\n",
       "      <td>5.43</td>\n",
       "      <td>2.538958</td>\n",
       "      <td>7.43</td>\n",
       "      <td>5.49</td>\n",
       "      <td>2.604583</td>\n",
       "      <td>7.47</td>\n",
       "    </tr>\n",
       "    <tr>\n",
       "      <th>10</th>\n",
       "      <td>134.732</td>\n",
       "      <td>9.429</td>\n",
       "      <td>4.191</td>\n",
       "      <td>6.27</td>\n",
       "      <td>5.682708</td>\n",
       "      <td>6.48</td>\n",
       "      <td>5.78</td>\n",
       "      <td>4.528958</td>\n",
       "      <td>6.83</td>\n",
       "    </tr>\n",
       "    <tr>\n",
       "      <th>11</th>\n",
       "      <td>478.645</td>\n",
       "      <td>11.456</td>\n",
       "      <td>5.383</td>\n",
       "      <td>8.55</td>\n",
       "      <td>8.931042</td>\n",
       "      <td>7.62</td>\n",
       "      <td>8.27</td>\n",
       "      <td>8.939792</td>\n",
       "      <td>7.37</td>\n",
       "    </tr>\n",
       "  </tbody>\n",
       "</table>\n",
       "</div>"
      ],
      "text/plain": [
       "    GDP_2019  pop_2019  unemployment_2019  hf_score_2019  pf_religion_2019  \\\n",
       "6    397.170     8.859              4.817           8.68          8.733125   \n",
       "7     81.896     9.982              4.848           6.02          4.699583   \n",
       "8     14.534     1.484              4.700           5.43          2.538958   \n",
       "10   134.732     9.429              4.191           6.27          5.682708   \n",
       "11   478.645    11.456              5.383           8.55          8.931042   \n",
       "\n",
       "    ef_score_2019  hf_score_2020  pf_religion_2020  ef_score_2020  \n",
       "6            7.86           8.26          8.851875           7.56  \n",
       "7            6.43           5.70          4.132083           6.21  \n",
       "8            7.43           5.49          2.604583           7.47  \n",
       "10           6.48           5.78          4.528958           6.83  \n",
       "11           7.62           8.27          8.939792           7.37  "
      ]
     },
     "execution_count": 4,
     "metadata": {},
     "output_type": "execute_result"
    }
   ],
   "source": [
    "df_2019 = df[df.columns[::2]]\n",
    "df_2019.iloc[:,0] = df.iloc[:,1]\n",
    "\n",
    "\n",
    "df_2019 = df_2019.dropna()\n",
    "x = df_2019.iloc[:,1:10]\n",
    "y = df_2019.iloc[:, 11]\n",
    "\n",
    "x.head()"
   ]
  },
  {
   "cell_type": "code",
   "execution_count": 5,
   "metadata": {},
   "outputs": [],
   "source": [
    "from sklearn.feature_selection import SelectKBest\n",
    "from sklearn.feature_selection import chi2\n",
    "\n",
    "t = SelectKBest(score_func=chi2, k=4)\n",
    "fit_vars = t.fit(x, y)"
   ]
  },
  {
   "cell_type": "code",
   "execution_count": 6,
   "metadata": {},
   "outputs": [
    {
     "data": {
      "text/plain": [
       "array([5.58537550e+02, 2.38799872e+00, 3.25585323e+01, 3.37789416e+00,\n",
       "       8.68159353e+00, 6.06463981e-01, 3.13304293e+00, 1.02501328e+01,\n",
       "       3.73112048e-01])"
      ]
     },
     "execution_count": 6,
     "metadata": {},
     "output_type": "execute_result"
    }
   ],
   "source": [
    "fit_vars.scores_\n"
   ]
  }
 ],
 "metadata": {
  "kernelspec": {
   "display_name": "Python 3",
   "language": "python",
   "name": "python3"
  },
  "language_info": {
   "codemirror_mode": {
    "name": "ipython",
    "version": 3
   },
   "file_extension": ".py",
   "mimetype": "text/x-python",
   "name": "python",
   "nbconvert_exporter": "python",
   "pygments_lexer": "ipython3",
   "version": "3.11.5"
  }
 },
 "nbformat": 4,
 "nbformat_minor": 2
}
