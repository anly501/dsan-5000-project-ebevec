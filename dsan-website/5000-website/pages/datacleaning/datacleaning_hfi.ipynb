{
 "cells": [
  {
   "cell_type": "code",
   "execution_count": 3,
   "metadata": {},
   "outputs": [],
   "source": [
    "import pandas as pd\n",
    "import numpy as np"
   ]
  },
  {
   "cell_type": "code",
   "execution_count": 4,
   "metadata": {},
   "outputs": [
    {
     "data": {
      "text/plain": [
       "(3465, 141)"
      ]
     },
     "execution_count": 4,
     "metadata": {},
     "output_type": "execute_result"
    }
   ],
   "source": [
    "hfi = pd.read_csv('../../../../data//00-raw-data/human-freedom-index-2022.csv')\n",
    "hfi.shape"
   ]
  },
  {
   "cell_type": "code",
   "execution_count": 5,
   "metadata": {},
   "outputs": [
    {
     "name": "stdout",
     "output_type": "stream",
     "text": [
      "['year', 'countries', 'region', 'hf_score', 'hf_rank', 'hf_quartile', 'pf_rol_procedural', 'pf_rol_civil', 'pf_rol_criminal', 'pf_rol_vdem', 'pf_rol', 'pf_ss_homicide', 'pf_ss_homicide_data', 'pf_ss_disappearances_disap', 'pf_ss_disappearances_violent', 'pf_ss_disappearances_violent_data', 'pf_ss_disappearances_organized', 'pf_ss_disappearances_fatalities', 'pf_ss_disappearances_fatalities_data', 'pf_ss_disappearances_injuries', 'pf_ss_disappearances_injuries_data', 'pf_ss_disappearances_torture', 'pf_ss_killings', 'pf_ss_disappearances', 'pf_ss', 'pf_movement_vdem_foreign', 'pf_movement_vdem_men', 'pf_movement_vdem_women', 'pf_movement_vdem', 'pf_movement_cld', 'pf_movement', 'pf_religion_freedom_vdem', 'pf_religion_freedom_cld', 'pf_religion_freedom', 'pf_religion_suppression', 'pf_religion', 'pf_assembly_entry', 'pf_assembly_freedom_house', 'pf_assembly_freedom_bti', 'pf_assembly_freedom_cld', 'pf_assembly_freedom', 'pf_assembly_parties_barriers', 'pf_assembly_parties_bans', 'pf_assembly_parties_auton', 'pf_assembly_parties', 'pf_assembly_civil', 'pf_assembly', 'pf_expression_direct_killed', 'pf_expression_direct_killed_data', 'pf_expression_direct_jailed', 'pf_expression_direct_jailed_data', 'pf_expression_direct', 'pf_expression_vdem_cultural', 'pf_expression_vdem_harass', 'pf_expression_vdem_gov', 'pf_expression_vdem_internet', 'pf_expression_vdem_selfcens', 'pf_expression_vdem', 'pf_expression_house', 'pf_expression_bti', 'pf_expression_cld', 'pf_expression', 'pf_identity_same_m', 'pf_identity_same_f', 'pf_identity_same', 'pf_identity_divorce', 'pf_identity_inheritance_widows', 'pf_identity_inheritance_daughters', 'pf_identity_inheritance', 'pf_identity_fgm', 'pf_identity', 'pf_score', 'pf_rank', 'ef_government_consumption', 'ef_government_consumption_data', 'ef_government_transfers', 'ef_government_transfers_data', 'ef_government_investment', 'ef_government_investment_data', 'ef_government_tax_income', 'ef_government_tax_income_data', 'ef_government_tax_payroll', 'ef_government_tax_payroll_data', 'ef_government_tax', 'ef_government_soa', 'ef_government', 'ef_legal_judicial', 'ef_legal_courts', 'ef_legal_protection', 'ef_legal_military', 'ef_legal_integrity', 'ef_legal_enforcement', 'ef_legal_regulatory', 'ef_legal_police', 'ef_gender', 'ef_legal', 'ef_money_growth', 'ef_money_growth_data', 'ef_money_sd', 'ef_money_sd_data', 'ef_money_inflation', 'ef_money_inflation_data', 'ef_money_currency', 'ef_money', 'ef_trade_tariffs_revenue', 'ef_trade_tariffs_revenue_data', 'ef_trade_tariffs_mean', 'ef_trade_tariffs_mean_data', 'ef_trade_tariffs_sd', 'ef_trade_tariffs_sd_data', 'ef_trade_tariffs', 'ef_trade_regulatory_nontariff', 'ef_trade_regulatory_compliance', 'ef_trade_regulatory', 'ef_trade_black', 'ef_trade_movement_open', 'ef_trade_movement_capital', 'ef_trade_movement_visit', 'ef_trade_movement', 'ef_trade', 'ef_regulation_credit_ownership', 'ef_regulation_credit_private', 'ef_regulation_credit_interest', 'ef_regulation_credit', 'ef_regulation_labor_minwage', 'ef_regulation_labor_firing', 'ef_regulation_labor_bargain', 'ef_regulation_labor_hours', 'ef_regulation_labor_dismissal', 'ef_regulation_labor_conscription', 'ef_regulation_labor', 'ef_regulation_business_adm', 'ef_regulation_business_burden', 'ef_regulation_business_start', 'ef_regulation_business_impartial', 'ef_regulation_business_licensing', 'ef_regulation_business_compliance', 'ef_regulation_business', 'ef_regulation', 'ef_score', 'ef_rank']\n"
     ]
    }
   ],
   "source": [
    "print(hfi.columns.to_list())"
   ]
  },
  {
   "cell_type": "code",
   "execution_count": 6,
   "metadata": {},
   "outputs": [
    {
     "data": {
      "text/plain": [
       "(3387, 141)"
      ]
     },
     "execution_count": 6,
     "metadata": {},
     "output_type": "execute_result"
    }
   ],
   "source": [
    "# ID columns with more than 50% na\n",
    "na_counts = hfi.isna().sum(axis=1)\n",
    "hfi = hfi.drop(na_counts[na_counts > hfi.shape[1]/2].index, axis=0)\n",
    "hfi.shape"
   ]
  },
  {
   "cell_type": "code",
   "execution_count": 7,
   "metadata": {},
   "outputs": [
    {
     "name": "stdout",
     "output_type": "stream",
     "text": [
      "              year     hf_score      hf_rank  hf_quartile  pf_rol_procedural  \\\n",
      "count  3387.000000  3083.000000  3083.000000  3083.000000        1390.000000   \n",
      "mean   2010.060526     7.137230    74.438210     2.511515           5.483309   \n",
      "std       6.053527     1.231567    43.566679     1.117721           2.058964   \n",
      "min    2000.000000     3.150000     1.000000     1.000000           0.774885   \n",
      "25%    2005.000000     6.210000    37.000000     2.000000           3.973032   \n",
      "50%    2010.000000     7.230000    74.000000     3.000000           5.123925   \n",
      "75%    2015.000000     8.180000   110.000000     4.000000           7.266667   \n",
      "max    2020.000000     9.300000   165.000000     4.000000           9.674536   \n",
      "\n",
      "       pf_rol_civil  pf_rol_criminal  pf_rol_vdem       pf_rol  \\\n",
      "count   1390.000000      1390.000000  3334.000000  3349.000000   \n",
      "mean       5.524964         4.963170     6.292156     5.327723   \n",
      "std        1.333783         1.634420     1.495600     1.614506   \n",
      "min        1.892666         1.206822     2.208892     1.552202   \n",
      "25%        4.543513         3.671504     5.333292     4.030632   \n",
      "50%        5.323999         4.533794     6.247939     5.004004   \n",
      "75%        6.351086         6.159868     7.411053     6.621539   \n",
      "max        8.773533         8.719848     9.293049     8.834741   \n",
      "\n",
      "       pf_ss_homicide  ...  ef_regulation_business_adm  \\\n",
      "count     3339.000000  ...                 2750.000000   \n",
      "mean         7.943782  ...                    3.819296   \n",
      "std          2.472768  ...                    1.474746   \n",
      "min          0.000000  ...                    0.000000   \n",
      "25%          7.289985  ...                    2.943376   \n",
      "50%          8.952545  ...                    3.793707   \n",
      "75%          9.574389  ...                    4.642151   \n",
      "max         10.000000  ...                    8.535040   \n",
      "\n",
      "       ef_regulation_business_burden  ef_regulation_business_start  \\\n",
      "count                    2826.000000                   3020.000000   \n",
      "mean                        5.308427                      8.579916   \n",
      "std                         2.317784                      1.444603   \n",
      "min                         0.000000                      0.000000   \n",
      "25%                         3.737374                      8.098452   \n",
      "50%                         5.345528                      9.067880   \n",
      "75%                         6.888889                      9.588642   \n",
      "max                        10.000000                      9.981891   \n",
      "\n",
      "       ef_regulation_business_impartial  ef_regulation_business_licensing  \\\n",
      "count                       3334.000000                       2531.000000   \n",
      "mean                           5.764209                          7.604105   \n",
      "std                            2.393402                          1.860455   \n",
      "min                            0.000000                          0.000000   \n",
      "25%                            3.785000                          6.831442   \n",
      "50%                            5.670000                          8.039560   \n",
      "75%                            7.665000                          8.959370   \n",
      "max                           10.000000                         10.000000   \n",
      "\n",
      "       ef_regulation_business_compliance  ef_regulation_business  \\\n",
      "count                        3043.000000             3048.000000   \n",
      "mean                            6.746191                6.327486   \n",
      "std                             2.192408                1.319703   \n",
      "min                             0.000000                1.865013   \n",
      "25%                             6.143992                5.501612   \n",
      "50%                             7.253715                6.385638   \n",
      "75%                             8.200903                7.211065   \n",
      "max                             9.925000                9.449778   \n",
      "\n",
      "       ef_regulation     ef_score      ef_rank  \n",
      "count    3115.000000  3083.000000  3083.000000  \n",
      "mean        6.889879     6.806610    74.393448  \n",
      "std         1.091376     0.991279    43.576273  \n",
      "min         2.497096     2.720000     1.000000  \n",
      "25%         6.263381     6.130000    37.000000  \n",
      "50%         6.975536     6.930000    74.000000  \n",
      "75%         7.656908     7.580000   110.000000  \n",
      "max         9.429423     9.100000   165.000000  \n",
      "\n",
      "[8 rows x 136 columns]\n",
      "<class 'pandas.core.frame.DataFrame'>\n",
      "Index: 3387 entries, 0 to 3464\n",
      "Columns: 141 entries, year to ef_rank\n",
      "dtypes: float64(133), int64(3), object(5)\n",
      "memory usage: 3.7+ MB\n"
     ]
    }
   ],
   "source": [
    "print(hfi.describe())\n",
    "hfi.info()"
   ]
  },
  {
   "cell_type": "code",
   "execution_count": 8,
   "metadata": {},
   "outputs": [],
   "source": [
    "hfi.to_csv('C:\\\\Users\\erinb\\OneDrive\\Documents\\Georgetown\\DSAN 5000\\dsan-5000-project-ebevec\\dsan-website\\\\5000-website\\pages\\datacleaning\\data_hfi_clean.csv')"
   ]
  }
 ],
 "metadata": {
  "kernelspec": {
   "display_name": "Python 3",
   "language": "python",
   "name": "python3"
  },
  "language_info": {
   "codemirror_mode": {
    "name": "ipython",
    "version": 3
   },
   "file_extension": ".py",
   "mimetype": "text/x-python",
   "name": "python",
   "nbconvert_exporter": "python",
   "pygments_lexer": "ipython3",
   "version": "3.11.5"
  }
 },
 "nbformat": 4,
 "nbformat_minor": 2
}
