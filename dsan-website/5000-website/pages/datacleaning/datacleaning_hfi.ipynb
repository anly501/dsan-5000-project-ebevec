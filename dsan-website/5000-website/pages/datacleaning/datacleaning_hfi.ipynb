{
 "cells": [
  {
   "cell_type": "code",
   "execution_count": 2,
   "metadata": {},
   "outputs": [],
   "source": [
    "import pandas as pd\n",
    "import numpy as np"
   ]
  },
  {
   "cell_type": "code",
   "execution_count": 30,
   "metadata": {},
   "outputs": [
    {
     "data": {
      "text/plain": [
       "(3465, 141)"
      ]
     },
     "execution_count": 30,
     "metadata": {},
     "output_type": "execute_result"
    }
   ],
   "source": [
    "hfi = pd.read_csv('../../../../data//00-raw-data/human-freedom-index-2022.csv')\n",
    "hfi.shape"
   ]
  },
  {
   "cell_type": "code",
   "execution_count": 16,
   "metadata": {},
   "outputs": [
    {
     "name": "stdout",
     "output_type": "stream",
     "text": [
      "['year', 'countries', 'region', 'hf_score', 'hf_rank', 'hf_quartile', 'pf_rol_procedural', 'pf_rol_civil', 'pf_rol_criminal', 'pf_rol_vdem', 'pf_rol', 'pf_ss_homicide', 'pf_ss_homicide_data', 'pf_ss_disappearances_disap', 'pf_ss_disappearances_violent', 'pf_ss_disappearances_violent_data', 'pf_ss_disappearances_organized', 'pf_ss_disappearances_fatalities', 'pf_ss_disappearances_fatalities_data', 'pf_ss_disappearances_injuries', 'pf_ss_disappearances_injuries_data', 'pf_ss_disappearances_torture', 'pf_ss_killings', 'pf_ss_disappearances', 'pf_ss', 'pf_movement_vdem_foreign', 'pf_movement_vdem_men', 'pf_movement_vdem_women', 'pf_movement_vdem', 'pf_movement_cld', 'pf_movement', 'pf_religion_freedom_vdem', 'pf_religion_freedom_cld', 'pf_religion_freedom', 'pf_religion_suppression', 'pf_religion', 'pf_assembly_entry', 'pf_assembly_freedom_house', 'pf_assembly_freedom_bti', 'pf_assembly_freedom_cld', 'pf_assembly_freedom', 'pf_assembly_parties_barriers', 'pf_assembly_parties_bans', 'pf_assembly_parties_auton', 'pf_assembly_parties', 'pf_assembly_civil', 'pf_assembly', 'pf_expression_direct_killed', 'pf_expression_direct_killed_data', 'pf_expression_direct_jailed', 'pf_expression_direct_jailed_data', 'pf_expression_direct', 'pf_expression_vdem_cultural', 'pf_expression_vdem_harass', 'pf_expression_vdem_gov', 'pf_expression_vdem_internet', 'pf_expression_vdem_selfcens', 'pf_expression_vdem', 'pf_expression_house', 'pf_expression_bti', 'pf_expression_cld', 'pf_expression', 'pf_identity_same_m', 'pf_identity_same_f', 'pf_identity_same', 'pf_identity_divorce', 'pf_identity_inheritance_widows', 'pf_identity_inheritance_daughters', 'pf_identity_inheritance', 'pf_identity_fgm', 'pf_identity', 'pf_score', 'pf_rank', 'ef_government_consumption', 'ef_government_consumption_data', 'ef_government_transfers', 'ef_government_transfers_data', 'ef_government_investment', 'ef_government_investment_data', 'ef_government_tax_income', 'ef_government_tax_income_data', 'ef_government_tax_payroll', 'ef_government_tax_payroll_data', 'ef_government_tax', 'ef_government_soa', 'ef_government', 'ef_legal_judicial', 'ef_legal_courts', 'ef_legal_protection', 'ef_legal_military', 'ef_legal_integrity', 'ef_legal_enforcement', 'ef_legal_regulatory', 'ef_legal_police', 'ef_gender', 'ef_legal', 'ef_money_growth', 'ef_money_growth_data', 'ef_money_sd', 'ef_money_sd_data', 'ef_money_inflation', 'ef_money_inflation_data', 'ef_money_currency', 'ef_money', 'ef_trade_tariffs_revenue', 'ef_trade_tariffs_revenue_data', 'ef_trade_tariffs_mean', 'ef_trade_tariffs_mean_data', 'ef_trade_tariffs_sd', 'ef_trade_tariffs_sd_data', 'ef_trade_tariffs', 'ef_trade_regulatory_nontariff', 'ef_trade_regulatory_compliance', 'ef_trade_regulatory', 'ef_trade_black', 'ef_trade_movement_open', 'ef_trade_movement_capital', 'ef_trade_movement_visit', 'ef_trade_movement', 'ef_trade', 'ef_regulation_credit_ownership', 'ef_regulation_credit_private', 'ef_regulation_credit_interest', 'ef_regulation_credit', 'ef_regulation_labor_minwage', 'ef_regulation_labor_firing', 'ef_regulation_labor_bargain', 'ef_regulation_labor_hours', 'ef_regulation_labor_dismissal', 'ef_regulation_labor_conscription', 'ef_regulation_labor', 'ef_regulation_business_adm', 'ef_regulation_business_burden', 'ef_regulation_business_start', 'ef_regulation_business_impartial', 'ef_regulation_business_licensing', 'ef_regulation_business_compliance', 'ef_regulation_business', 'ef_regulation', 'ef_score', 'ef_rank']\n"
     ]
    }
   ],
   "source": [
    "print(hfi.columns.to_list())"
   ]
  },
  {
   "cell_type": "code",
   "execution_count": 34,
   "metadata": {},
   "outputs": [
    {
     "data": {
      "text/plain": [
       "(3073, 141)"
      ]
     },
     "execution_count": 34,
     "metadata": {},
     "output_type": "execute_result"
    }
   ],
   "source": [
    "# ID columns with more than 50% na\n",
    "na_counts = hfi.isna().sum(axis=1)\n",
    "hfi = hfi.drop(na_counts[na_counts > hfi.shape[1]/2].index, axis=0)\n",
    "hfi.shape"
   ]
  },
  {
   "cell_type": "code",
   "execution_count": 36,
   "metadata": {},
   "outputs": [
    {
     "name": "stdout",
     "output_type": "stream",
     "text": [
      "              year     hf_score      hf_rank  hf_quartile  pf_rol_procedural  \\\n",
      "count  3073.000000  3072.000000  3072.000000  3072.000000        1372.000000   \n",
      "mean   2010.602018     7.134587    74.547201     2.513672           5.498666   \n",
      "std       5.982784     1.232784    43.602184     1.119006           2.065896   \n",
      "min    2000.000000     3.150000     1.000000     1.000000           0.774885   \n",
      "25%    2006.000000     6.207500    37.000000     2.000000           3.986389   \n",
      "50%    2011.000000     7.210000    74.000000     3.000000           5.139940   \n",
      "75%    2016.000000     8.180000   111.000000     4.000000           7.293104   \n",
      "max    2020.000000     9.300000   165.000000     4.000000           9.674536   \n",
      "\n",
      "       pf_rol_civil  pf_rol_criminal  pf_rol_vdem       pf_rol  \\\n",
      "count   1372.000000      1372.000000  3031.000000  3046.000000   \n",
      "mean       5.533417         4.969213     6.417407     5.415174   \n",
      "std        1.332536         1.640446     1.454132     1.617081   \n",
      "min        1.892666         1.206822     2.208892     1.552202   \n",
      "25%        4.544587         3.673870     5.437362     4.115584   \n",
      "50%        5.325504         4.533794     6.384922     5.142815   \n",
      "75%        6.357578         6.165557     7.634111     6.705338   \n",
      "max        8.773533         8.719848     9.293049     8.834741   \n",
      "\n",
      "       pf_ss_homicide  ...  ef_regulation_business_adm  \\\n",
      "count     3046.000000  ...                 2750.000000   \n",
      "mean         7.946135  ...                    3.819296   \n",
      "std          2.537197  ...                    1.474746   \n",
      "min          0.000000  ...                    0.000000   \n",
      "25%          7.346039  ...                    2.943376   \n",
      "50%          9.012992  ...                    3.793707   \n",
      "75%          9.595810  ...                    4.642151   \n",
      "max         10.000000  ...                    8.535040   \n",
      "\n",
      "       ef_regulation_business_burden  ef_regulation_business_start  \\\n",
      "count                    2806.000000                   3010.000000   \n",
      "mean                        5.325982                      8.583907   \n",
      "std                         2.310381                      1.443761   \n",
      "min                         0.000000                      0.000000   \n",
      "25%                         3.777778                      8.102903   \n",
      "50%                         5.373286                      9.070589   \n",
      "75%                         6.901408                      9.589580   \n",
      "max                        10.000000                      9.981891   \n",
      "\n",
      "       ef_regulation_business_impartial  ef_regulation_business_licensing  \\\n",
      "count                       3031.000000                       2530.000000   \n",
      "mean                           5.927355                          7.603235   \n",
      "std                            2.380170                          1.860308   \n",
      "min                            0.000000                          0.000000   \n",
      "25%                            4.063250                          6.831159   \n",
      "50%                            5.935000                          8.038992   \n",
      "75%                            7.882500                          8.958284   \n",
      "max                           10.000000                         10.000000   \n",
      "\n",
      "       ef_regulation_business_compliance  ef_regulation_business  \\\n",
      "count                        3017.000000             3038.000000   \n",
      "mean                            6.760333                6.327910   \n",
      "std                             2.170134                1.318549   \n",
      "min                             0.000000                1.865013   \n",
      "25%                             6.143992                5.503020   \n",
      "50%                             7.242506                6.387331   \n",
      "75%                             8.195298                7.208423   \n",
      "max                             9.925000                9.449778   \n",
      "\n",
      "       ef_regulation     ef_score      ef_rank  \n",
      "count    3073.000000  3072.000000  3072.000000  \n",
      "mean        6.904010     6.807620    74.399740  \n",
      "std         1.083198     0.992522    43.644866  \n",
      "min         2.497096     2.720000     1.000000  \n",
      "25%         6.283849     6.130000    37.000000  \n",
      "50%         6.983475     6.930000    74.000000  \n",
      "75%         7.662873     7.580000   111.000000  \n",
      "max         9.429423     9.100000   165.000000  \n",
      "\n",
      "[8 rows x 136 columns]\n",
      "<class 'pandas.core.frame.DataFrame'>\n",
      "Index: 3073 entries, 0 to 3464\n",
      "Columns: 141 entries, year to ef_rank\n",
      "dtypes: float64(133), int64(3), object(5)\n",
      "memory usage: 3.3+ MB\n"
     ]
    }
   ],
   "source": [
    "print(hfi.describe())\n",
    "hfi.info()"
   ]
  }
 ],
 "metadata": {
  "kernelspec": {
   "display_name": "Python 3",
   "language": "python",
   "name": "python3"
  },
  "language_info": {
   "codemirror_mode": {
    "name": "ipython",
    "version": 3
   },
   "file_extension": ".py",
   "mimetype": "text/x-python",
   "name": "python",
   "nbconvert_exporter": "python",
   "pygments_lexer": "ipython3",
   "version": "3.11.5"
  }
 },
 "nbformat": 4,
 "nbformat_minor": 2
}
